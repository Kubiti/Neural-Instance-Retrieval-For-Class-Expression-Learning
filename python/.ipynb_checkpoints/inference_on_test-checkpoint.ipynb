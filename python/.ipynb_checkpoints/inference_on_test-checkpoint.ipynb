{
 "cells": [
  {
   "cell_type": "code",
   "execution_count": 217,
   "id": "d31c8dbe-7e14-428b-aa7e-49b5053eb739",
   "metadata": {},
   "outputs": [],
   "source": [
    "import torch\n",
    "import numpy as np\n",
    "from sklearn.metrics import accuracy_score, f1_score\n",
    "import pandas as pd\n",
    "import json\n",
    "from ontolearn.knowledge_base import KnowledgeBase\n",
    "from model import *\n",
    "import helper as h"
   ]
  },
  {
   "cell_type": "code",
   "execution_count": 218,
   "id": "6a2f20c3-cd06-4b43-8a91-2dd97d293192",
   "metadata": {},
   "outputs": [],
   "source": [
    "path = './testing_data/family/Data.json'\n",
    "with open(path, 'r') as f:\n",
    "    data_family = json.load(f)\n",
    "# data_family "
   ]
  },
  {
   "cell_type": "code",
   "execution_count": 219,
   "id": "63bac436-767b-40a6-b290-657c16199903",
   "metadata": {},
   "outputs": [
    {
     "name": "stdout",
     "output_type": "stream",
     "text": [
      "animals  family  lymphography  nctrer  suramin\n"
     ]
    }
   ],
   "source": [
    "!ls ../generated_data/"
   ]
  },
  {
   "cell_type": "code",
   "execution_count": 220,
   "id": "7b91dd6e-a53d-45f4-804f-2426f6b1ecca",
   "metadata": {},
   "outputs": [
    {
     "data": {
      "text/html": [
       "<div>\n",
       "<style scoped>\n",
       "    .dataframe tbody tr th:only-of-type {\n",
       "        vertical-align: middle;\n",
       "    }\n",
       "\n",
       "    .dataframe tbody tr th {\n",
       "        vertical-align: top;\n",
       "    }\n",
       "\n",
       "    .dataframe thead th {\n",
       "        text-align: right;\n",
       "    }\n",
       "</style>\n",
       "<table border=\"1\" class=\"dataframe\">\n",
       "  <thead>\n",
       "    <tr style=\"text-align: right;\">\n",
       "      <th></th>\n",
       "      <th>0</th>\n",
       "      <th>1</th>\n",
       "      <th>2</th>\n",
       "      <th>3</th>\n",
       "      <th>4</th>\n",
       "      <th>5</th>\n",
       "      <th>6</th>\n",
       "      <th>7</th>\n",
       "      <th>8</th>\n",
       "      <th>9</th>\n",
       "      <th>...</th>\n",
       "      <th>30</th>\n",
       "      <th>31</th>\n",
       "      <th>32</th>\n",
       "      <th>33</th>\n",
       "      <th>34</th>\n",
       "      <th>35</th>\n",
       "      <th>36</th>\n",
       "      <th>37</th>\n",
       "      <th>38</th>\n",
       "      <th>39</th>\n",
       "    </tr>\n",
       "  </thead>\n",
       "  <tbody>\n",
       "    <tr>\n",
       "      <th>family</th>\n",
       "      <td>-0.510082</td>\n",
       "      <td>-0.145016</td>\n",
       "      <td>-0.009557</td>\n",
       "      <td>-0.078788</td>\n",
       "      <td>-0.019206</td>\n",
       "      <td>-0.010803</td>\n",
       "      <td>0.349008</td>\n",
       "      <td>0.209991</td>\n",
       "      <td>-0.088038</td>\n",
       "      <td>0.116868</td>\n",
       "      <td>...</td>\n",
       "      <td>-0.439352</td>\n",
       "      <td>0.280357</td>\n",
       "      <td>0.469358</td>\n",
       "      <td>0.083962</td>\n",
       "      <td>-0.110305</td>\n",
       "      <td>-0.296295</td>\n",
       "      <td>-0.071612</td>\n",
       "      <td>0.038979</td>\n",
       "      <td>0.453106</td>\n",
       "      <td>-0.148915</td>\n",
       "    </tr>\n",
       "    <tr>\n",
       "      <th>Brother</th>\n",
       "      <td>-0.631511</td>\n",
       "      <td>-0.240898</td>\n",
       "      <td>-0.250700</td>\n",
       "      <td>-0.362371</td>\n",
       "      <td>-0.040183</td>\n",
       "      <td>0.015462</td>\n",
       "      <td>0.141325</td>\n",
       "      <td>0.325979</td>\n",
       "      <td>-0.335817</td>\n",
       "      <td>0.452220</td>\n",
       "      <td>...</td>\n",
       "      <td>-0.307253</td>\n",
       "      <td>0.310754</td>\n",
       "      <td>0.059858</td>\n",
       "      <td>0.328623</td>\n",
       "      <td>-0.105266</td>\n",
       "      <td>-0.234409</td>\n",
       "      <td>-0.476253</td>\n",
       "      <td>0.088189</td>\n",
       "      <td>0.438635</td>\n",
       "      <td>-0.342936</td>\n",
       "    </tr>\n",
       "    <tr>\n",
       "      <th>Child</th>\n",
       "      <td>-0.542442</td>\n",
       "      <td>-0.296409</td>\n",
       "      <td>0.082527</td>\n",
       "      <td>-0.274644</td>\n",
       "      <td>-0.006012</td>\n",
       "      <td>0.078398</td>\n",
       "      <td>0.180037</td>\n",
       "      <td>0.444667</td>\n",
       "      <td>0.043876</td>\n",
       "      <td>0.313792</td>\n",
       "      <td>...</td>\n",
       "      <td>0.021881</td>\n",
       "      <td>0.181143</td>\n",
       "      <td>0.132985</td>\n",
       "      <td>0.013914</td>\n",
       "      <td>-0.077513</td>\n",
       "      <td>-0.273810</td>\n",
       "      <td>-0.150218</td>\n",
       "      <td>0.106706</td>\n",
       "      <td>0.416187</td>\n",
       "      <td>-0.546767</td>\n",
       "    </tr>\n",
       "    <tr>\n",
       "      <th>Daughter</th>\n",
       "      <td>-0.507977</td>\n",
       "      <td>-0.480087</td>\n",
       "      <td>0.355015</td>\n",
       "      <td>-0.252879</td>\n",
       "      <td>-0.054749</td>\n",
       "      <td>0.083345</td>\n",
       "      <td>0.268233</td>\n",
       "      <td>0.034250</td>\n",
       "      <td>-0.265779</td>\n",
       "      <td>0.377001</td>\n",
       "      <td>...</td>\n",
       "      <td>-0.434662</td>\n",
       "      <td>0.158338</td>\n",
       "      <td>0.053465</td>\n",
       "      <td>-0.056371</td>\n",
       "      <td>-0.070795</td>\n",
       "      <td>-0.387119</td>\n",
       "      <td>0.017065</td>\n",
       "      <td>0.114300</td>\n",
       "      <td>0.385666</td>\n",
       "      <td>-0.424619</td>\n",
       "    </tr>\n",
       "    <tr>\n",
       "      <th>family#F10F172</th>\n",
       "      <td>-0.346503</td>\n",
       "      <td>-0.025178</td>\n",
       "      <td>0.056965</td>\n",
       "      <td>-0.381369</td>\n",
       "      <td>0.040770</td>\n",
       "      <td>0.599510</td>\n",
       "      <td>-0.136524</td>\n",
       "      <td>0.235721</td>\n",
       "      <td>-0.040183</td>\n",
       "      <td>0.545229</td>\n",
       "      <td>...</td>\n",
       "      <td>-0.272744</td>\n",
       "      <td>0.309809</td>\n",
       "      <td>0.310318</td>\n",
       "      <td>-0.102748</td>\n",
       "      <td>-0.298615</td>\n",
       "      <td>-0.497718</td>\n",
       "      <td>-0.021591</td>\n",
       "      <td>0.238793</td>\n",
       "      <td>0.062246</td>\n",
       "      <td>0.198001</td>\n",
       "    </tr>\n",
       "  </tbody>\n",
       "</table>\n",
       "<p>5 rows × 40 columns</p>\n",
       "</div>"
      ],
      "text/plain": [
       "                       0         1         2         3         4         5  \\\n",
       "family         -0.510082 -0.145016 -0.009557 -0.078788 -0.019206 -0.010803   \n",
       "Brother        -0.631511 -0.240898 -0.250700 -0.362371 -0.040183  0.015462   \n",
       "Child          -0.542442 -0.296409  0.082527 -0.274644 -0.006012  0.078398   \n",
       "Daughter       -0.507977 -0.480087  0.355015 -0.252879 -0.054749  0.083345   \n",
       "family#F10F172 -0.346503 -0.025178  0.056965 -0.381369  0.040770  0.599510   \n",
       "\n",
       "                       6         7         8         9  ...        30  \\\n",
       "family          0.349008  0.209991 -0.088038  0.116868  ... -0.439352   \n",
       "Brother         0.141325  0.325979 -0.335817  0.452220  ... -0.307253   \n",
       "Child           0.180037  0.444667  0.043876  0.313792  ...  0.021881   \n",
       "Daughter        0.268233  0.034250 -0.265779  0.377001  ... -0.434662   \n",
       "family#F10F172 -0.136524  0.235721 -0.040183  0.545229  ... -0.272744   \n",
       "\n",
       "                      31        32        33        34        35        36  \\\n",
       "family          0.280357  0.469358  0.083962 -0.110305 -0.296295 -0.071612   \n",
       "Brother         0.310754  0.059858  0.328623 -0.105266 -0.234409 -0.476253   \n",
       "Child           0.181143  0.132985  0.013914 -0.077513 -0.273810 -0.150218   \n",
       "Daughter        0.158338  0.053465 -0.056371 -0.070795 -0.387119  0.017065   \n",
       "family#F10F172  0.309809  0.310318 -0.102748 -0.298615 -0.497718 -0.021591   \n",
       "\n",
       "                      37        38        39  \n",
       "family          0.038979  0.453106 -0.148915  \n",
       "Brother         0.088189  0.438635 -0.342936  \n",
       "Child           0.106706  0.416187 -0.546767  \n",
       "Daughter        0.114300  0.385666 -0.424619  \n",
       "family#F10F172  0.238793  0.062246  0.198001  \n",
       "\n",
       "[5 rows x 40 columns]"
      ]
     },
     "execution_count": 220,
     "metadata": {},
     "output_type": "execute_result"
    }
   ],
   "source": [
    "emb = pd.read_csv('../generated_data/family/family_emb.csv', index_col = 0)\n",
    "emb.head()"
   ]
  },
  {
   "cell_type": "code",
   "execution_count": 221,
   "id": "f660dd0e-cb19-4b0a-8a7b-d4c310d0e46b",
   "metadata": {},
   "outputs": [],
   "source": [
    "# Negation input_size, hidden_size, output_size, batch_size\n",
    "neg_path = './trained_models/family/family_model_Negation.pth'\n",
    "conj_path = './trained_models/family/family_model_Conjunction.pth'\n",
    "disj_path = './trained_models/family/family_model_Disjunction.pth'\n",
    "exist_path = './trained_models/family/family_model_Existential.pth'\n",
    "uni_path = './trained_models/family/family_model_Universal.pth'"
   ]
  },
  {
   "cell_type": "code",
   "execution_count": 222,
   "id": "2137297b-0132-4b32-9ee1-e0c0ece55735",
   "metadata": {},
   "outputs": [],
   "source": [
    "# !ls trained_models/family\n",
    "# !ls trained_models/family/"
   ]
  },
  {
   "cell_type": "code",
   "execution_count": 223,
   "id": "db734d89-211e-4927-bfe5-fff56c483e1f",
   "metadata": {},
   "outputs": [
    {
     "data": {
      "text/plain": [
       "Universal(\n",
       "  (fc1): Linear(in_features=80, out_features=40, bias=True)\n",
       "  (fc2): Linear(in_features=40, out_features=40, bias=True)\n",
       "  (fc3): Linear(in_features=40, out_features=40, bias=True)\n",
       "  (head): Linear(in_features=40, out_features=202, bias=True)\n",
       "  (activation): ReLU()\n",
       ")"
      ]
     },
     "execution_count": 223,
     "metadata": {},
     "output_type": "execute_result"
    }
   ],
   "source": [
    "neg = Negation(40, 40, 202, 16)\n",
    "neg.load_state_dict(torch.load(neg_path))\n",
    "neg.eval()\n",
    "\n",
    "conj = Conjunction(40, 40, 202, 16)\n",
    "conj.load_state_dict(torch.load(conj_path))\n",
    "conj.eval()\n",
    "\n",
    "disj = Disjunction(40, 40, 202, 16)\n",
    "disj.load_state_dict(torch.load(disj_path))\n",
    "disj.eval()\n",
    "\n",
    "exist = Existential(40, 40, 202, 16)\n",
    "exist.load_state_dict(torch.load(exist_path))\n",
    "exist.eval()\n",
    "\n",
    "uni = Universal(40, 40, 202, 16)\n",
    "uni.load_state_dict(torch.load(uni_path))\n",
    "uni.eval()"
   ]
  },
  {
   "cell_type": "code",
   "execution_count": 224,
   "id": "82f155a2-63d4-4c75-985f-56dfc0f61251",
   "metadata": {},
   "outputs": [],
   "source": [
    "models = {\n",
    "    'neg': neg,\n",
    "    'conj': conj,\n",
    "    'disj': disj,\n",
    "    'exist': exist,\n",
    "    'uni': uni\n",
    "}"
   ]
  },
  {
   "cell_type": "code",
   "execution_count": 225,
   "id": "699b0f8c-4882-404f-8577-af00e9bd04aa",
   "metadata": {},
   "outputs": [
    {
     "name": "stdout",
     "output_type": "stream",
     "text": [
      "Negation(\n",
      "  (fc1): Linear(in_features=40, out_features=40, bias=True)\n",
      "  (fc2): Linear(in_features=40, out_features=40, bias=True)\n",
      "  (fc3): Linear(in_features=40, out_features=40, bias=True)\n",
      "  (head): Linear(in_features=40, out_features=202, bias=True)\n",
      "  (activation): ReLU()\n",
      ")\n"
     ]
    }
   ],
   "source": [
    "print(models['neg'])"
   ]
  },
  {
   "cell_type": "code",
   "execution_count": 226,
   "id": "0a5d0cea-b0fb-4707-9a44-efc0ea8ff536",
   "metadata": {},
   "outputs": [],
   "source": [
    "def convert_to_labels(kb_path, expr):\n",
    "    # datapoint = []\n",
    "    KB = KnowledgeBase(path=kb_path) # update file path Done :)\n",
    "    L = sorted([ind.str.split(\"/\")[-1] for ind in KB.individuals()])\n",
    "    print(len(L))\n",
    "    datapoints = [] \n",
    "    name_to_ids = {name: idx for idx, name in enumerate(L)} \n",
    "    \n",
    "\n",
    "    y_C = np.zeros(len(L))\n",
    "    pos = expr[1]['positive examples']\n",
    "    Ind_pos = list(map(name_to_ids.get, pos))\n",
    "    y_C[Ind_pos] = 1\n",
    "    datapoint = (expr[0], list(y_C))\n",
    "    return datapoint"
   ]
  },
  {
   "cell_type": "code",
   "execution_count": 227,
   "id": "7ad16eb7-db9e-45f8-a634-534f66a8ee7c",
   "metadata": {},
   "outputs": [],
   "source": [
    "kb_path = '../NCESData/family/family.owl'\n",
    "expr = data_family[0]"
   ]
  },
  {
   "cell_type": "code",
   "execution_count": 228,
   "id": "71e9a42b-1d5a-40b9-89e4-f12113d3d0b3",
   "metadata": {},
   "outputs": [
    {
     "name": "stdout",
     "output_type": "stream",
     "text": [
      "202\n"
     ]
    },
    {
     "data": {
      "text/plain": [
       "'Brother ⊔ (Parent ⊓ (∀ hasSibling.Father))'"
      ]
     },
     "execution_count": 228,
     "metadata": {},
     "output_type": "execute_result"
    }
   ],
   "source": [
    "input = convert_to_labels(kb_path, expr)\n",
    "input[0]"
   ]
  },
  {
   "cell_type": "code",
   "execution_count": 229,
   "id": "3b95c78e-0ad5-4c93-a78c-bb799095fd55",
   "metadata": {},
   "outputs": [],
   "source": [
    "hasSibling = emb.loc['hasSibling'].values\n",
    "father = emb.loc['Father'].values\n",
    "parent = emb.loc['Parent'].values\n",
    "brother = emb.loc['Brother'].values"
   ]
  },
  {
   "cell_type": "code",
   "execution_count": 230,
   "id": "a71d114e-0e0e-45e9-913c-328ecc8e91ec",
   "metadata": {},
   "outputs": [],
   "source": [
    "encoding = models['uni'].encode(torch.FloatTensor(hasSibling).unsqueeze(0), torch.FloatTensor(father).unsqueeze(0))"
   ]
  },
  {
   "cell_type": "code",
   "execution_count": 231,
   "id": "71be08e4-f8c3-4957-8afa-798691040c17",
   "metadata": {},
   "outputs": [
    {
     "data": {
      "text/plain": [
       "tensor([[2.5860, 0.0000, 1.6543, 6.7100, 3.9401, 0.0000, 4.1829, 5.3426, 6.1417,\n",
       "         4.2385, 2.5556, 3.7432, 3.8188, 2.8912, 6.0619, 0.0000, 0.0000, 6.4436,\n",
       "         0.0000, 2.9545, 2.1965, 5.9600, 0.0000, 0.0000, 3.3867, 3.1742, 0.0000,\n",
       "         4.6995, 1.6832, 0.0000, 2.8607, 0.0000, 3.2073, 5.6859, 4.6913, 3.1838,\n",
       "         1.3843, 6.6142, 4.4438, 4.5054]], grad_fn=<ReluBackward0>)"
      ]
     },
     "execution_count": 231,
     "metadata": {},
     "output_type": "execute_result"
    }
   ],
   "source": [
    "encoding"
   ]
  },
  {
   "cell_type": "code",
   "execution_count": 232,
   "id": "34a1f243-41e5-452c-bc5b-e939d86ae6ae",
   "metadata": {},
   "outputs": [],
   "source": [
    "inter_p = models['conj'].encode(torch.FloatTensor(parent).unsqueeze(0), encoding)"
   ]
  },
  {
   "cell_type": "code",
   "execution_count": 233,
   "id": "dbafb932-4009-4e38-bdf6-015afab2a453",
   "metadata": {},
   "outputs": [
    {
     "data": {
      "text/plain": [
       "[83.412704,\n",
       " -89.638275,\n",
       " -54.758286,\n",
       " 38.977333,\n",
       " -51.5317,\n",
       " 81.157265,\n",
       " 59.06265,\n",
       " -38.610428,\n",
       " 124.44534,\n",
       " 57.69741,\n",
       " -24.797762,\n",
       " 67.90391,\n",
       " -20.528208,\n",
       " 53.779522,\n",
       " 83.910065,\n",
       " 68.03709,\n",
       " -56.935196,\n",
       " 67.95903,\n",
       " 84.29726,\n",
       " -78.37951,\n",
       " 96.45507,\n",
       " -44.90122,\n",
       " 65.84144,\n",
       " -50.694546,\n",
       " -78.67968,\n",
       " -92.47435,\n",
       " 95.54845,\n",
       " 8.059974,\n",
       " 58.439354,\n",
       " 48.626846,\n",
       " 99.924576,\n",
       " 82.127174,\n",
       " -81.5899,\n",
       " 72.488716,\n",
       " 79.00285,\n",
       " -86.302475,\n",
       " 51.04128,\n",
       " 74.47499,\n",
       " -67.17391,\n",
       " 53.448994]"
      ]
     },
     "execution_count": 233,
     "metadata": {},
     "output_type": "execute_result"
    }
   ],
   "source": [
    "list(inter_p.detach().numpy()[0])"
   ]
  },
  {
   "cell_type": "code",
   "execution_count": 234,
   "id": "cccc5275-79c6-4e24-8127-23c1d3266809",
   "metadata": {},
   "outputs": [
    {
     "data": {
      "text/plain": [
       "torch.Size([1, 40])"
      ]
     },
     "execution_count": 234,
     "metadata": {},
     "output_type": "execute_result"
    }
   ],
   "source": [
    "encoding.shape"
   ]
  },
  {
   "cell_type": "code",
   "execution_count": 235,
   "id": "d2eb0fdf-afd9-4e49-895f-17accf6869eb",
   "metadata": {},
   "outputs": [],
   "source": [
    "y_pred = models['disj'](torch.FloatTensor(brother).unsqueeze(0), inter_p)"
   ]
  },
  {
   "cell_type": "code",
   "execution_count": 236,
   "id": "70521d26-4307-4933-a82f-cb14776c455c",
   "metadata": {},
   "outputs": [
    {
     "data": {
      "text/plain": [
       "tensor([[0., 0., 1., 1., 1., 1., 1., 1., 0., 1., 1., 1., 1., 0., 1., 1., 0., 1.,\n",
       "         0., 0., 0., 0., 1., 1., 0., 1., 1., 0., 0., 1., 1., 0., 0., 1., 1., 1.,\n",
       "         0., 0., 0., 0., 0., 0., 1., 1., 1., 1., 0., 0., 1., 1., 1., 1., 1., 1.,\n",
       "         0., 1., 0., 1., 0., 0., 1., 1., 0., 0., 0., 1., 0., 1., 0., 0., 0., 0.,\n",
       "         0., 0., 0., 1., 1., 1., 0., 0., 1., 1., 0., 0., 1., 0., 1., 1., 0., 0.,\n",
       "         0., 0., 1., 0., 0., 0., 0., 0., 1., 1., 1., 0., 0., 0., 1., 1., 1., 0.,\n",
       "         1., 1., 1., 1., 1., 1., 0., 1., 1., 1., 1., 0., 0., 1., 1., 0., 0., 1.,\n",
       "         0., 0., 1., 0., 0., 0., 1., 0., 0., 1., 1., 0., 1., 0., 1., 1., 1., 0.,\n",
       "         1., 1., 1., 0., 0., 0., 0., 1., 1., 1., 1., 1., 0., 0., 1., 1., 0., 0.,\n",
       "         1., 0., 0., 0., 0., 0., 1., 1., 0., 1., 1., 1., 1., 1., 1., 0., 1., 0.,\n",
       "         0., 0., 1., 0., 1., 0., 0., 0., 0., 1., 0., 1., 1., 1., 0., 1., 1., 1.,\n",
       "         0., 1., 1., 0.]], grad_fn=<SigmoidBackward0>)"
      ]
     },
     "execution_count": 236,
     "metadata": {},
     "output_type": "execute_result"
    }
   ],
   "source": [
    "y_pred "
   ]
  },
  {
   "cell_type": "code",
   "execution_count": 237,
   "id": "51538dde-6a1e-4271-b1db-39e11b517d0a",
   "metadata": {},
   "outputs": [],
   "source": [
    "pred = (y_pred > 0.5).numpy().astype(int)\n"
   ]
  },
  {
   "cell_type": "code",
   "execution_count": 238,
   "id": "c337ee8d-498e-45be-bb7e-256fa3b1adb3",
   "metadata": {},
   "outputs": [],
   "source": [
    "label = input[1]"
   ]
  },
  {
   "cell_type": "code",
   "execution_count": 239,
   "id": "d954152c-8483-4ee1-9b53-8a30165075ce",
   "metadata": {},
   "outputs": [
    {
     "data": {
      "text/plain": [
       "0.25742574257425743"
      ]
     },
     "execution_count": 239,
     "metadata": {},
     "output_type": "execute_result"
    }
   ],
   "source": [
    "accuracy_score(pred.squeeze(), label)"
   ]
  },
  {
   "cell_type": "code",
   "execution_count": 240,
   "id": "d1a694d2-fe83-4a02-baac-53f0fde86692",
   "metadata": {},
   "outputs": [
    {
     "data": {
      "text/plain": [
       "0.31818181818181823"
      ]
     },
     "execution_count": 240,
     "metadata": {},
     "output_type": "execute_result"
    }
   ],
   "source": [
    "f1_score(pred.squeeze(), label)"
   ]
  },
  {
   "cell_type": "code",
   "execution_count": 241,
   "id": "df565ccc-6f04-4193-ac4e-de6a60d26966",
   "metadata": {},
   "outputs": [
    {
     "data": {
      "text/plain": [
       "True"
      ]
     },
     "execution_count": 241,
     "metadata": {},
     "output_type": "execute_result"
    }
   ],
   "source": [
    "my_dict = {'0': 2}\n",
    "'0' in my_dict"
   ]
  },
  {
   "cell_type": "code",
   "execution_count": 262,
   "id": "efaa1469-b67b-4f83-919f-bedca5245dc5",
   "metadata": {},
   "outputs": [],
   "source": [
    "def neg(exp):\n",
    "        exp_b = exp.replace('¬', '')\n",
    "        b_emb = emb.loc[exp_b].values\n",
    "        return models['neg'].encode(torch.FloatTensor(b_emb).unsqueeze(0))\n",
    "    \n",
    "def process(ele, eval):\n",
    "        ele = ele.strip().replace('(', '').replace(')', '')\n",
    "        if ele in eval:\n",
    "            exp_emb = eval[ele]\n",
    "        else:\n",
    "            exp_emb = neg(ele) if '¬' in ele else torch.FloatTensor(emb.loc[ele].values).unsqueeze(0)\n",
    "        return exp_emb\n",
    "\n",
    "def exp_three(exp, eval, last=False):\n",
    "    if ' ' not in exp:\n",
    "        if '¬' in exp:\n",
    "            # print('neg', exp)\n",
    "            return neg(exp)\n",
    "        else:\n",
    "            return torch.FloatTensor(emb.loc[exp].values).unsqueeze(0)\n",
    "        \n",
    "    elif (h.quant(exp) or h.const(exp)) and h.top_bot(exp):\n",
    "        if (' ⊔ ' in exp):\n",
    "            parts = exp.split(' ⊔ ')\n",
    "            parts = [process(part, eval) for part in parts]\n",
    "            enc = models['disj'](parts[0], parts[1]) if last else models['disj'].encode(parts[0], parts[1]) \n",
    "            return enc\n",
    "                \n",
    "        elif (' ⊓ ' in exp):\n",
    "            parts = exp.split(' ⊓ ')\n",
    "            parts = [process(part, eval) for part in parts]\n",
    "            enc = models['conj'](parts[0], parts[1]) if last else models['disj'].encode(parts[0], parts[1])\n",
    "            return enc\n",
    "            \n",
    "        else:\n",
    "            if (exp.startswith('∀')):\n",
    "                parts = exp.split(' ')[1].split('.')\n",
    "                parts = [process(part, eval) for part in parts]\n",
    "                enc = models['uni'](parts[0], torch.FloatTensor(parts[1])) if last else models['uni'].encode(parts[0], parts[1])\n",
    "                return enc\n",
    "                \n",
    "            if (exp.startswith('∃')):\n",
    "                parts = exp.split(' ')[1].split('.')\n",
    "                parts = [process(part, eval) for part in parts]\n",
    "                enc = models['exist'](parts[0], torch.FloatTensor(parts[1])) if last else models['exist'].encode(parts[0], parts[1])\n",
    "                return enc\n",
    "            else:\n",
    "                print('Failed', exp)\n",
    "    else:\n",
    "        print('comp', exp)"
   ]
  },
  {
   "cell_type": "code",
   "execution_count": 288,
   "id": "6a611a71-a660-4a4e-b8b6-475830c7ff39",
   "metadata": {},
   "outputs": [],
   "source": [
    "def evaluate_parentheses(expression):\n",
    "    # exp_list = list(expression)\n",
    "    count_exp = 0\n",
    "    print('expression', expression)\n",
    "    computed = {}\n",
    "    i = 0\n",
    "    while '(' in expression:\n",
    "        open_idx = None\n",
    "        close_idx = None\n",
    "\n",
    "        for idx, item in enumerate(expression):\n",
    "            if item == '(':\n",
    "                open_idx = idx\n",
    "            if item == ')':\n",
    "                close_idx = idx\n",
    "                break\n",
    "            \n",
    "        # print('evaluating', expression[open_idx + 1: close_idx])\n",
    "        inner_results = exp_three(expression[open_idx + 1: close_idx], computed)  \n",
    "\n",
    "\n",
    "        expression = list(expression)\n",
    "        computed[str(i)] = inner_results\n",
    "        expression[open_idx: close_idx + 1] = str(i)\n",
    "        expression = \"\".join(expression)\n",
    "        \n",
    "        i+= 1\n",
    "\n",
    "    # print('inner_results', inner_results)\n",
    "    print('expression', expression)\n",
    "    if (not (h.quant(expression) or h.const(expression))) and h.top_bot(expression):\n",
    "        print('complex', expression)\n",
    "        parts = expression.split(\" ⊓ \")\n",
    "        first = \" ⊓ \".join(parts[:2])\n",
    "        len_first = len(first)\n",
    "        inner_results = exp_three(first, computed)\n",
    "        expression = list(expression)\n",
    "        computed[str(i)] = inner_results\n",
    "        expression[:len_first] = str(i)\n",
    "        expression = \"\".join(expression)\n",
    "        print(expression)\n",
    "    \n",
    "    final = exp_three(expression, computed, True)\n",
    "    # print('computed', computed)\n",
    "    return final\n",
    "\n",
    "# parts = input_string.split(\" ⊓ \")\n",
    "# result = \" ⊓ \".join(parts[:2])\n",
    "\n",
    "# print(result) Grandmother ⊓ 1 ⊓ 3"
   ]
  },
  {
   "cell_type": "code",
   "execution_count": 289,
   "id": "1caae455-890d-4fe6-bac8-5f0ae84cdc0c",
   "metadata": {},
   "outputs": [
    {
     "name": "stdout",
     "output_type": "stream",
     "text": [
      "expression Grandmother ⊓ (∃ hasChild.(¬Grandfather)) ⊓ (∀ hasChild.(¬Brother))\n",
      "expression Grandmother ⊓ 1 ⊓ 3\n",
      "complex Grandmother ⊓ 1 ⊓ 3\n",
      "4 ⊓ 3\n"
     ]
    },
    {
     "data": {
      "text/plain": [
       "0.0"
      ]
     },
     "execution_count": 289,
     "metadata": {},
     "output_type": "execute_result"
    }
   ],
   "source": [
    "# Example usage:\n",
    "# expression = '(Person ⊓ (Male ⊔ (∃ hasChild.(¬Grandparent)))) ⊔ (∃ hasParent.Female)'\n",
    "expression = convert_to_labels(kb_path, data_family[2])[0]\n",
    "label = convert_to_labels(kb_path, data_family[2])[1]\n",
    "y_pred = evaluate_parentheses(expression)\n",
    "\n",
    "# print(y_pred)\n",
    "pred = (y_pred > 0.5).numpy().astype(int)\n",
    "pred\n",
    "accuracy_score(pred.squeeze(), label)\n",
    "f1_score(pred.squeeze(), label)"
   ]
  },
  {
   "cell_type": "code",
   "execution_count": null,
   "id": "6a0da4ac-3e8f-4360-8a8a-f96648ee86cb",
   "metadata": {},
   "outputs": [],
   "source": []
  },
  {
   "cell_type": "code",
   "execution_count": 291,
   "id": "2c3adce3-2842-48d6-aa13-257546763306",
   "metadata": {},
   "outputs": [
    {
     "name": "stdout",
     "output_type": "stream",
     "text": [
      "expression Brother ⊔ (Parent ⊓ (∀ hasSibling.Father))\n",
      "expression Brother ⊔ 1\n",
      "expression Sister ⊔ (∃ hasParent.(Brother ⊓ (∃ hasParent.PersonWithASibling)))\n",
      "expression Sister ⊔ 2\n",
      "expression Grandmother ⊓ (∃ hasChild.(¬Grandfather)) ⊓ (∀ hasChild.(¬Brother))\n",
      "expression Grandmother ⊓ 1 ⊓ 3\n",
      "complex Grandmother ⊓ 1 ⊓ 3\n",
      "4 ⊓ 3\n",
      "expression Person ⊓ (∀ hasSibling.(Grandchild ⊓ (∃ hasSibling.(¬Father))))\n",
      "expression Person ⊓ 3\n",
      "expression Son ⊔ (∀ married.Grandmother)\n",
      "expression Son ⊔ 0\n",
      "expression Grandson ⊔ (∀ hasParent.(¬Grandfather))\n",
      "expression Grandson ⊔ 1\n",
      "skipping Person ⊓ (Brother ⊔ (∀ hasChild.(¬Mother))) ⊓ (∀ hasSibling.⊤)\n",
      "expression PersonWithASibling ⊓ (∀ hasSibling.Mother)\n",
      "expression PersonWithASibling ⊓ 0\n",
      "expression Grandparent ⊔ (∃ married.(Male ⊓ (∀ hasParent.(¬Daughter))))\n",
      "expression Grandparent ⊔ 3\n",
      "expression Brother ⊔ (Person ⊓ (Granddaughter ⊔ (∀ married.Father)))\n",
      "expression Brother ⊔ 2\n",
      "expression Grandparent ⊓ (∀ hasChild.Father)\n",
      "expression Grandparent ⊓ 0\n",
      "expression Person ⊓ (∀ married.(Female ⊔ (∃ hasChild.(¬Son))))\n",
      "expression Person ⊓ 3\n",
      "expression Person ⊓ (∀ married.(Brother ⊔ (∃ married.Sister)))\n",
      "expression Person ⊓ 2\n",
      "expression (Person ⊓ (Grandmother ⊔ (∀ hasChild.(¬Sister)))) ⊔ (∀ hasParent.Sister)\n",
      "expression 3 ⊔ 4\n",
      "expression (Female ⊓ (∀ hasChild.Grandmother)) ⊔ (∃ hasParent.Female)\n",
      "expression 1 ⊔ 2\n",
      "expression (Daughter ⊓ (∃ hasChild.Grandfather)) ⊔ (∀ hasChild.Grandson)\n",
      "expression 1 ⊔ 2\n",
      "expression Person ⊓ (∀ married.(Grandson ⊔ (∃ hasChild.(¬PersonWithASibling))))\n",
      "expression Person ⊓ 3\n",
      "expression Person ⊓ (Male ⊔ (∃ hasChild.Mother)) ⊓ (∃ hasSibling.Female)\n",
      "expression Person ⊓ 1 ⊓ 2\n",
      "complex Person ⊓ 1 ⊓ 2\n",
      "3 ⊓ 2\n",
      "expression Father ⊔ (∃ hasChild.(Granddaughter ⊓ (∃ hasChild.(¬Sister))))\n",
      "expression Father ⊔ 3\n",
      "skipping (Grandfather ⊓ (∀ hasParent.⊥)) ⊔ (∃ married.Child)\n",
      "expression (Person ⊓ (Granddaughter ⊔ (∃ hasSibling.(¬Mother)))) ⊔ (∀ hasParent.Sister)\n",
      "expression 3 ⊔ 4\n",
      "expression (Grandmother ⊓ (∃ hasChild.Son)) ⊔ (∃ hasParent.Female)\n",
      "expression 1 ⊔ 2\n",
      "expression Person ⊓ (Grandmother ⊔ (∃ hasSibling.(¬Grandmother))) ⊓ (¬Daughter)\n",
      "expression Person ⊓ 2 ⊓ 3\n",
      "complex Person ⊓ 2 ⊓ 3\n",
      "4 ⊓ 3\n",
      "expression (Brother ⊓ (∀ hasChild.Daughter)) ⊔ (∀ hasParent.Sister)\n",
      "expression 1 ⊔ 2\n",
      "expression (Grandfather ⊓ Son) ⊔ (∃ hasSibling.PersonWithASibling)\n",
      "expression 0 ⊔ 1\n",
      "expression Brother ⊓ (∀ hasChild.(¬Brother))\n",
      "expression Brother ⊓ 1\n",
      "expression Person ⊓ (∀ married.(Male ⊔ (∃ hasChild.(¬Son))))\n",
      "expression Person ⊓ 3\n",
      "expression (Child ⊓ (∀ hasSibling.(¬Grandfather))) ⊔ (∀ hasChild.Grandson)\n",
      "expression 2 ⊔ 3\n",
      "expression Person ⊓ (∀ married.(Grandmother ⊓ (∃ hasChild.(¬Son))))\n",
      "expression Person ⊓ 3\n",
      "expression Brother ⊔ (Female ⊓ (∃ married.(¬Parent)))\n",
      "expression Brother ⊔ 2\n",
      "expression Person ⊓ (Grandmother ⊔ (∃ hasParent.Sister)) ⊓ (¬Daughter)\n",
      "expression Person ⊓ 1 ⊓ 2\n",
      "complex Person ⊓ 1 ⊓ 2\n",
      "3 ⊓ 2\n",
      "expression Grandparent ⊔ (∃ married.(Male ⊔ (∃ hasChild.PersonWithASibling)))\n",
      "expression Grandparent ⊔ 2\n",
      "expression Person ⊓ (∀ hasParent.(Daughter ⊔ (∀ hasSibling.(¬Male))))\n",
      "expression Person ⊓ 3\n",
      "expression Grandparent ⊔ (∃ married.(Mother ⊓ (∃ hasParent.Son)))\n",
      "expression Grandparent ⊔ 2\n",
      "expression Brother ⊔ (Granddaughter ⊓ (∃ hasSibling.Father))\n",
      "expression Brother ⊔ 1\n",
      "expression Sister ⊔ (∃ hasParent.(Grandchild ⊓ (¬Grandmother)))\n",
      "expression Sister ⊔ 2\n",
      "expression Father ⊔ (∃ hasChild.(Granddaughter ⊔ (∃ hasSibling.Grandparent)))\n",
      "expression Father ⊔ 2\n",
      "expression Father ⊔ (∃ hasChild.(PersonWithASibling ⊔ (∃ hasParent.Daughter)))\n",
      "expression Father ⊔ 2\n",
      "expression Grandchild ⊓ Person ⊓ (Father ⊔ (∃ married.Male))\n",
      "expression Grandchild ⊓ Person ⊓ 1\n",
      "complex Grandchild ⊓ Person ⊓ 1\n",
      "2 ⊓ 1\n",
      "expression Person ⊓ (Mother ⊔ (∃ hasSibling.Father)) ⊓ (∃ hasParent.Sister)\n",
      "expression Person ⊓ 1 ⊓ 2\n",
      "complex Person ⊓ 1 ⊓ 2\n",
      "3 ⊓ 2\n",
      "expression Granddaughter ⊓ (¬Grandparent) ⊓ (∀ hasChild.(¬Brother))\n",
      "expression Granddaughter ⊓ 0 ⊓ 2\n",
      "complex Granddaughter ⊓ 0 ⊓ 2\n",
      "3 ⊓ 2\n",
      "expression Grandparent ⊔ (∃ married.(Son ⊔ (∀ hasParent.(¬PersonWithASibling))))\n",
      "expression Grandparent ⊔ 3\n",
      "expression (Daughter ⊓ (∀ hasSibling.(¬Daughter))) ⊔ (∀ hasChild.Grandson)\n",
      "expression 2 ⊔ 3\n",
      "expression (Child ⊓ (∀ hasChild.PersonWithASibling)) ⊔ (∀ hasParent.Sister)\n",
      "expression 1 ⊔ 2\n",
      "expression Person ⊓ (Grandfather ⊔ (∃ hasSibling.(¬Parent))) ⊓ (∃ hasSibling.PersonWithASibling)\n",
      "expression Person ⊓ 2 ⊓ 3\n",
      "complex Person ⊓ 2 ⊓ 3\n",
      "4 ⊓ 3\n",
      "expression (Person ⊓ (Grandmother ⊔ (∃ hasParent.Brother))) ⊔ (∀ hasChild.(¬PersonWithASibling))\n",
      "expression 2 ⊔ 4\n",
      "expression Sister ⊔ (∃ hasParent.(Brother ⊔ (∃ hasSibling.Father)))\n",
      "expression Sister ⊔ 2\n",
      "expression Granddaughter ⊓ Person ⊓ (Mother ⊔ (∀ hasSibling.Sister))\n",
      "expression Granddaughter ⊓ Person ⊓ 1\n",
      "complex Granddaughter ⊓ Person ⊓ 1\n",
      "2 ⊓ 1\n",
      "expression Grandparent ⊔ (∃ married.(Sister ⊔ (∀ hasSibling.(¬Grandchild))))\n",
      "expression Grandparent ⊔ 3\n",
      "skipping Male ⊓ (∀ hasSibling.Grandfather) ⊓ (∀ married.⊤)\n",
      "expression Sister ⊔ (∃ hasParent.(Child ⊓ (∀ hasSibling.(¬Parent))))\n",
      "expression Sister ⊔ 3\n",
      "expression Grandparent ⊔ (∃ married.(Child ⊔ (¬Parent)))\n",
      "expression Grandparent ⊔ 2\n",
      "skipping (Daughter ⊓ (∃ married.⊤)) ⊔ (∃ hasChild.Grandmother)\n",
      "expression (Son ⊓ (∃ hasSibling.(¬Grandparent))) ⊔ (∀ hasChild.Grandson)\n",
      "expression 2 ⊔ 3\n",
      "expression Person ⊓ (Female ⊔ (∃ hasChild.(¬Grandfather))) ⊓ (¬Daughter)\n",
      "expression Person ⊓ 2 ⊓ 3\n",
      "complex Person ⊓ 2 ⊓ 3\n",
      "4 ⊓ 3\n",
      "expression Brother ⊔ (Person ⊓ (PersonWithASibling ⊔ (∀ hasChild.Granddaughter)))\n",
      "expression Brother ⊔ 2\n",
      "expression Brother ⊔ (Parent ⊓ (¬Grandmother))\n",
      "expression Brother ⊔ 1\n",
      "expression (Child ⊓ (∀ hasSibling.(¬Granddaughter))) ⊔ (∀ hasChild.(¬PersonWithASibling))\n",
      "expression 2 ⊔ 4\n",
      "expression Father ⊓ Grandchild ⊓ (¬Grandfather)\n",
      "expression Father ⊓ Grandchild ⊓ 0\n",
      "complex Father ⊓ Grandchild ⊓ 0\n",
      "1 ⊓ 0\n",
      "expression (Person ⊓ (Grandfather ⊔ (∃ married.(¬Parent)))) ⊔ (∀ hasParent.Sister)\n",
      "expression 3 ⊔ 4\n",
      "expression Grandchild ⊓ PersonWithASibling ⊓ (∃ married.(¬Mother))\n",
      "expression Grandchild ⊓ PersonWithASibling ⊓ 1\n",
      "complex Grandchild ⊓ PersonWithASibling ⊓ 1\n",
      "2 ⊓ 1\n",
      "expression Sister ⊓ (∃ hasChild.(¬Grandfather))\n",
      "expression Sister ⊓ 1\n",
      "expression Father ⊔ (∃ hasChild.(Grandchild ⊔ (∀ hasChild.Grandfather)))\n",
      "expression Father ⊔ 2\n",
      "expression Person ⊓ (Son ⊔ (∀ hasChild.(¬Grandmother))) ⊓ (¬Grandchild)\n",
      "expression Person ⊓ 2 ⊓ 3\n",
      "complex Person ⊓ 2 ⊓ 3\n",
      "4 ⊓ 3\n",
      "expression Person ⊓ (Granddaughter ⊔ (∃ hasChild.(¬Grandfather))) ⊓ (∃ hasSibling.Female)\n",
      "expression Person ⊓ 2 ⊓ 3\n",
      "complex Person ⊓ 2 ⊓ 3\n",
      "4 ⊓ 3\n",
      "skipping Person ⊓ (Sister ⊔ (∀ hasParent.(¬Son))) ⊓ (∀ hasSibling.⊤)\n",
      "expression Child ⊓ (∃ married.(Grandparent ⊓ (∃ married.(¬Sister))))\n",
      "expression Child ⊓ 3\n",
      "expression Son ⊓ (∃ hasSibling.(¬Grandfather))\n",
      "expression Son ⊓ 1\n",
      "expression (Person ⊓ (Sister ⊔ (∃ hasChild.Brother))) ⊔ (∀ hasChild.Grandson)\n",
      "expression 2 ⊔ 3\n",
      "skipping Mother ⊓ (∃ hasChild.(Daughter ⊓ (∃ hasChild.⊤)))\n",
      "expression Grandparent ⊓ (∃ hasChild.PersonWithASibling)\n",
      "expression Grandparent ⊓ 0\n",
      "expression (Grandchild ⊓ (∃ hasSibling.Father)) ⊔ (∀ hasChild.Grandson)\n",
      "expression 1 ⊔ 2\n",
      "expression Mother ⊔ (∃ married.(Female ⊔ Grandchild))\n",
      "expression Mother ⊔ 1\n",
      "expression Person ⊓ (Father ⊔ (∃ hasSibling.(¬Parent))) ⊓ (∃ hasSibling.PersonWithASibling)\n",
      "expression Person ⊓ 2 ⊓ 3\n",
      "complex Person ⊓ 2 ⊓ 3\n",
      "4 ⊓ 3\n",
      "expression Sister ⊔ (∃ hasParent.(Brother ⊔ (∃ hasSibling.Granddaughter)))\n",
      "expression Sister ⊔ 2\n",
      "expression Person ⊓ (Grandmother ⊔ (∀ hasChild.Grandson)) ⊓ (∀ hasChild.(¬Brother))\n",
      "expression Person ⊓ 1 ⊓ 3\n",
      "complex Person ⊓ 1 ⊓ 3\n",
      "4 ⊓ 3\n",
      "expression Grandparent ⊔ (∃ married.(Mother ⊓ (¬Grandchild)))\n",
      "expression Grandparent ⊔ 2\n",
      "expression Grandfather ⊓ (∃ hasChild.(Granddaughter ⊓ (∃ hasChild.Brother)))\n",
      "expression Grandfather ⊓ 2\n",
      "expression Grandson ⊓ (∃ hasSibling.Female) ⊓ (∃ hasSibling.Parent)\n",
      "expression Grandson ⊓ 0 ⊓ 1\n",
      "complex Grandson ⊓ 0 ⊓ 1\n",
      "2 ⊓ 1\n",
      "expression (Male ⊓ (¬Grandparent)) ⊔ (∃ hasParent.Female)\n",
      "expression 1 ⊔ 2\n",
      "expression Person ⊓ (Mother ⊔ (∃ hasChild.PersonWithASibling)) ⊓ (∀ hasChild.(¬Brother))\n",
      "expression Person ⊓ 1 ⊓ 3\n",
      "complex Person ⊓ 1 ⊓ 3\n",
      "4 ⊓ 3\n",
      "expression Daughter ⊓ (¬Grandmother) ⊓ (¬PersonWithASibling)\n",
      "expression Daughter ⊓ 0 ⊓ 1\n",
      "complex Daughter ⊓ 0 ⊓ 1\n",
      "2 ⊓ 1\n",
      "expression (Daughter ⊓ (∃ married.(¬Father))) ⊔ (∀ hasParent.Sister)\n",
      "expression 2 ⊔ 3\n",
      "expression PersonWithASibling ⊓ (∀ hasSibling.(Mother ⊔ (∀ hasSibling.Female)))\n",
      "expression PersonWithASibling ⊓ 2\n",
      "expression Person ⊓ (Brother ⊔ (∀ hasChild.Brother)) ⊓ (¬Grandchild)\n",
      "expression Person ⊓ 1 ⊓ 2\n",
      "complex Person ⊓ 1 ⊓ 2\n",
      "3 ⊓ 2\n",
      "expression Person ⊓ (∀ hasParent.(Grandfather ⊔ (∀ hasSibling.Male)))\n",
      "expression Person ⊓ 2\n",
      "expression Brother ⊓ (∀ hasParent.(¬PersonWithASibling))\n",
      "expression Brother ⊓ 1\n",
      "expression Grandfather ⊓ (∃ hasChild.(Female ⊔ (∃ hasParent.Son)))\n",
      "expression Grandfather ⊓ 2\n",
      "expression Grandchild ⊓ (∃ hasParent.Sister) ⊓ (∀ hasSibling.Father)\n",
      "expression Grandchild ⊓ 0 ⊓ 1\n",
      "complex Grandchild ⊓ 0 ⊓ 1\n",
      "2 ⊓ 1\n",
      "expression Person ⊓ (∀ hasParent.(Grandfather ⊔ (∀ hasSibling.(¬Male))))\n",
      "expression Person ⊓ 3\n",
      "expression Person ⊓ (Sister ⊔ (∀ married.Grandmother)) ⊓ (∃ hasParent.Sister)\n",
      "expression Person ⊓ 1 ⊓ 2\n",
      "complex Person ⊓ 1 ⊓ 2\n",
      "3 ⊓ 2\n",
      "expression Person ⊓ (Female ⊔ (∃ married.(¬Grandparent))) ⊓ (∃ hasParent.Sister)\n",
      "expression Person ⊓ 2 ⊓ 3\n",
      "complex Person ⊓ 2 ⊓ 3\n",
      "4 ⊓ 3\n",
      "expression Person ⊓ (∀ hasSibling.(Parent ⊔ (∃ hasSibling.(¬Grandson))))\n",
      "expression Person ⊓ 3\n",
      "skipping (Granddaughter ⊓ (∃ hasSibling.⊤)) ⊔ (∀ married.Grandson)\n",
      "expression Grandparent ⊔ (∃ married.(Female ⊔ (∃ hasSibling.(¬Brother))))\n",
      "expression Grandparent ⊔ 3\n",
      "expression Grandfather ⊓ (∃ hasChild.(Father ⊔ (¬PersonWithASibling)))\n",
      "expression Grandfather ⊓ 2\n",
      "expression (Person ⊓ (Female ⊔ (∃ hasChild.Grandmother))) ⊔ (∀ hasChild.(¬PersonWithASibling))\n",
      "expression 2 ⊔ 4\n",
      "expression (Parent ⊓ (¬Grandmother)) ⊔ (∀ hasParent.Sister)\n",
      "expression 1 ⊔ 2\n",
      "expression Grandfather ⊓ (∃ hasChild.(Grandchild ⊔ Mother))\n",
      "expression Grandfather ⊓ 1\n",
      "expression Person ⊓ (Grandfather ⊔ (∃ hasSibling.(¬Father))) ⊓ (¬Daughter)\n",
      "expression Person ⊓ 2 ⊓ 3\n",
      "complex Person ⊓ 2 ⊓ 3\n",
      "4 ⊓ 3\n"
     ]
    }
   ],
   "source": [
    "test_acc = []\n",
    "test_f1 = []\n",
    "\n",
    "for pair in data_family:\n",
    "    \n",
    "    converted = convert_to_labels(kb_path, pair)\n",
    "    expression = converted[0]\n",
    "    label = converted[1]\n",
    "    # print(expression)\n",
    "    if not h.top_bot(expression):\n",
    "        print(\"skipping\", expression)\n",
    "        continue\n",
    "    y_pred = evaluate_parentheses(expression)\n",
    "    pred = (y_pred > 0.5).numpy().astype(int)\n",
    "    # pred\n",
    "    test_acc.append(accuracy_score(pred.squeeze(), label))\n",
    "    test_f1.append(f1_score(pred.squeeze(), label))"
   ]
  },
  {
   "cell_type": "code",
   "execution_count": 293,
   "id": "030b10de-3e36-4149-a164-e6ecd6bcd749",
   "metadata": {},
   "outputs": [
    {
     "data": {
      "text/plain": [
       "[0.8221343873517787,\n",
       " 0.2452830188679245,\n",
       " 0.0,\n",
       " 0.2318840579710145,\n",
       " 0.5443037974683543,\n",
       " 0.13592233009708737,\n",
       " 0.2702702702702703,\n",
       " 0.8151658767772512,\n",
       " 0.6210045662100456,\n",
       " 0.07407407407407407,\n",
       " 0.1827956989247312,\n",
       " 0.11235955056179775,\n",
       " 0.6099290780141844,\n",
       " 0.6666666666666667,\n",
       " 0.25471698113207547,\n",
       " 0.23776223776223773,\n",
       " 0.0625,\n",
       " 0.5577689243027888,\n",
       " 0.5770750988142292,\n",
       " 0.3781094527363184,\n",
       " 0.0,\n",
       " 0.5020242914979758,\n",
       " 0.47804878048780497,\n",
       " 0.0,\n",
       " 0.39784946236559143,\n",
       " 0.5125628140703518,\n",
       " 0.23255813953488372,\n",
       " 0.07246376811594203,\n",
       " 0.0,\n",
       " 0.6938775510204082,\n",
       " 0.041237113402061855,\n",
       " 0.6160337552742616,\n",
       " 0.21138211382113825,\n",
       " 0.47120418848167533,\n",
       " 0.7237354085603113,\n",
       " 0.7575757575757575,\n",
       " 0.06666666666666667,\n",
       " 0.28571428571428575,\n",
       " 0.0,\n",
       " 0.7443609022556391,\n",
       " 0.7719298245614035,\n",
       " 0.7557003257328989,\n",
       " 0.12598425196850396,\n",
       " 0.5896414342629482,\n",
       " 0.39999999999999997,\n",
       " 0.0,\n",
       " 0.6926070038910506,\n",
       " 0.2395209580838323,\n",
       " 0.6456692913385828,\n",
       " 0.25,\n",
       " 0.16666666666666669,\n",
       " 0.5,\n",
       " 0.6567164179104478,\n",
       " 0.7525423728813558,\n",
       " 0.3,\n",
       " 0.5789473684210527,\n",
       " 0.0,\n",
       " 0.07207207207207209,\n",
       " 0.8940092165898617,\n",
       " 0.0,\n",
       " 0.4901960784313726,\n",
       " 0.20952380952380953,\n",
       " 0.25862068965517243,\n",
       " 0.6222222222222222,\n",
       " 0.5806451612903225,\n",
       " 0.2654028436018957,\n",
       " 0.8808864265927978,\n",
       " 0.13846153846153847,\n",
       " 0.3508771929824561,\n",
       " 0.04347826086956522,\n",
       " 0.6932270916334661,\n",
       " 0.05940594059405941,\n",
       " 0.05714285714285715,\n",
       " 0.3022222222222222,\n",
       " 0.3191489361702128,\n",
       " 0.15094339622641506,\n",
       " 0.4972375690607735,\n",
       " 0.1111111111111111,\n",
       " 0.0,\n",
       " 0.04519774011299434,\n",
       " 0.26666666666666666,\n",
       " 0.4566929133858268,\n",
       " 0.05555555555555555,\n",
       " 0.03529411764705882,\n",
       " 0.06666666666666667,\n",
       " 0.23728813559322035,\n",
       " 0.3448275862068966,\n",
       " 0.8571428571428571,\n",
       " 0.5977011494252873,\n",
       " 0.32258064516129037,\n",
       " 0.5201465201465202,\n",
       " 0.4210526315789474,\n",
       " 0.0]"
      ]
     },
     "execution_count": 293,
     "metadata": {},
     "output_type": "execute_result"
    }
   ],
   "source": [
    "test_f1"
   ]
  },
  {
   "cell_type": "code",
   "execution_count": null,
   "id": "18713cd4-779a-4a0f-964a-31944d0ec46c",
   "metadata": {},
   "outputs": [],
   "source": []
  }
 ],
 "metadata": {
  "kernelspec": {
   "display_name": "Python 3 (ipykernel)",
   "language": "python",
   "name": "python3"
  },
  "language_info": {
   "codemirror_mode": {
    "name": "ipython",
    "version": 3
   },
   "file_extension": ".py",
   "mimetype": "text/x-python",
   "name": "python",
   "nbconvert_exporter": "python",
   "pygments_lexer": "ipython3",
   "version": "3.10.12"
  }
 },
 "nbformat": 4,
 "nbformat_minor": 5
}
